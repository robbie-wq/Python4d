{
 "cells": [
  {
   "cell_type": "markdown",
   "metadata": {
    "slideshow": {
     "slide_type": "slide"
    }
   },
   "source": [
    "# Section 1.5\n",
    "##  ASCII Art\n",
    "- Python 3 in Jupyter notebooks\n",
    "- `print()`\n",
    "- Comments \n",
    "- Data types basics\n",
    "- Variables\n",
    "- Addition with Strings and Integers \n",
    "- Errors  \n",
    "- **Character art**  \n",
    "\n",
    "-----\n",
    "\n",
    "\n",
    "### Student will be able to\n",
    "- Use Python 3 in Jupyter notebooks\n",
    "- Write working code using `print()`, `type()`, comments and variables\n",
    "- Combine Strings using string addition (+)\n",
    "- Add numbers in code (+) \n",
    "- Troubleshoot errors  \n",
    "- **Create character art**"
   ]
  },
  {
   "cell_type": "markdown",
   "metadata": {},
   "source": [
    "## Concept: Print Character Art\n",
    "[![view video](https://iajupyterprodblobs.blob.core.windows.net/imagecontainer/common/play_video.png)]( http://edxinteractivepage.blob.core.windows.net/edxpages/f7cff1a7-5601-48a1-95a6-fd1fdfabd20e.html?details=[{\"src\":\"http://jupyternootbookwams.streaming.mediaservices.windows.net/d7a3d1b4-8d8d-4e9e-a984-a6920bcd7ca1/Unit1_Section1.5-ASCII_Art.ism/manifest\",\"type\":\"application/vnd.ms-sstr+xml\"}],[{\"src\":\"http://jupyternootbookwams.streaming.mediaservices.windows.net/d7a3d1b4-8d8d-4e9e-a984-a6920bcd7ca1/Unit1_Section1.5-ASCII_Art.vtt\",\"srclang\":\"en\",\"kind\":\"subtitles\",\"label\":\"english\"}])\n",
    "print() output to the console can create character art in the forms of pictures and stylized text. Below we show how to create a stylized letter \"A\". "
   ]
  },
  {
   "cell_type": "code",
   "execution_count": null,
   "metadata": {
    "collapsed": false
   },
   "outputs": [],
   "source": [
    "# the letter 'A'\n",
    "print(\"    *\")\n",
    "print(\"   * *\")\n",
    "print(\"  *****\")\n",
    "print(\" *     *\")\n",
    "print(\"*       *\")\n",
    "print()"
   ]
  },
  {
   "cell_type": "markdown",
   "metadata": {
    "collapsed": false
   },
   "source": [
    "## Task 1: Create character art\n",
    "- Create the flying bird in character art in the Code cell below.\n",
    "\n",
    "```\n",
    "\n",
    "_         _      \n",
    " \\       /     \n",
    "  \\ . . /   \n",
    "     V   \n",
    "\n",
    "```  \n"
   ]
  },
  {
   "cell_type": "code",
   "execution_count": null,
   "metadata": {
    "collapsed": false
   },
   "outputs": [],
   "source": [
    "# create # [ ] flying bird character art \n",
    "\n"
   ]
  },
  {
   "cell_type": "markdown",
   "metadata": {},
   "source": [
    "### Task 1 continued...  \n",
    "- Create the capital letter \"E\" in character art in the Code cell below."
   ]
  },
  {
   "cell_type": "code",
   "execution_count": null,
   "metadata": {
    "collapsed": false
   },
   "outputs": [],
   "source": [
    "# [ ] capital letter \"E\" character art\n",
    "\n"
   ]
  },
  {
   "cell_type": "markdown",
   "metadata": {},
   "source": [
    "[Terms of use](http://go.microsoft.com/fwlink/?LinkID=206977) &nbsp; [Privacy & cookies](https://go.microsoft.com/fwlink/?LinkId=521839) &nbsp; © 2017 Microsoft"
   ]
  }
 ],
 "metadata": {
  "anaconda-cloud": {},
  "kernelspec": {
   "display_name": "Python 3",
   "language": "python",
   "name": "python3"
  },
  "language_info": {
   "codemirror_mode": {
    "name": "ipython",
    "version": 3
   },
   "file_extension": ".py",
   "mimetype": "text/x-python",
   "name": "python",
   "nbconvert_exporter": "python",
   "pygments_lexer": "ipython3",
   "version": "3.5.1"
  }
 },
 "nbformat": 4,
 "nbformat_minor": 0
}
