{
 "cells": [
  {
   "cell_type": "markdown",
   "metadata": {
    "collapsed": true
   },
   "source": [
    "#  Module 2 Project  \n",
    "Course 40460: Introduction to Python, Unit 1  \n",
    "\n",
    "The activity is based on Modules 1 and 2 and is similar to the Jupyter Notebook for Module 2 practice, which you may have completed.\n",
    "\n",
    "| Some Assignment Requirements |  \n",
    "|:-------------------------------|  \n",
    "| **NOTE:** This program requires that a **function** be defined, created and called. The call will send values based on user input.  The function call must capture a `return` value that is used in print output.  The function will have parameters and `return` a string and should otherwise use code syntax covered in Module 2.  |  \n",
    " \n",
    "## Program: fishstore()\n",
    "Create and test fishstore().\n",
    "- **fishstore() takes 2 string arguments: fish & price**\n",
    "- **fishstore returns a string in sentence form**  \n",
    "- **Gather input for fish_entry and price_entry to use in calling fishstore()**\n",
    "- **Print the return value of fishstore()**\n",
    ">Example of output: **`Fish Type: Guppy costs $1`**"
   ]
  },
  {
   "cell_type": "code",
   "execution_count": null,
   "metadata": {
    "collapsed": false
   },
   "outputs": [],
   "source": [
    "# [ ] create, call and test fishstore() function \n"
   ]
  },
  {
   "cell_type": "markdown",
   "metadata": {},
   "source": [
    "[Terms of use](http://go.microsoft.com/fwlink/?LinkID=206977) &nbsp; [Privacy & cookies](https://go.microsoft.com/fwlink/?LinkId=521839) &nbsp; © 2017 Microsoft"
   ]
  }
 ],
 "metadata": {
  "anaconda-cloud": {},
  "kernelspec": {
   "display_name": "Python 3",
   "language": "python",
   "name": "python3"
  },
  "language_info": {
   "codemirror_mode": {
    "name": "ipython",
    "version": 3
   },
   "file_extension": ".py",
   "mimetype": "text/x-python",
   "name": "python",
   "nbconvert_exporter": "python",
   "pygments_lexer": "ipython3",
   "version": "3.5.1"
  }
 },
 "nbformat": 4,
 "nbformat_minor": 0
}
