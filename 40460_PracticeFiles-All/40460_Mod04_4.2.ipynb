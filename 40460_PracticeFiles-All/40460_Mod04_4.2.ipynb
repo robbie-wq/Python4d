{
 "cells": [
  {
   "cell_type": "markdown",
   "metadata": {},
   "source": [
    "# Section 4.2\n",
    "## Nested Conditionals\n",
    "- Nested conditionals  \n",
    "- **Print formatting with the (\\) escape sequence** \n",
    "\n",
    "-----\n",
    "\n",
    "### Student will be able to\n",
    "- Create nested conditional logic in code  \n",
    "- **Print format print using escape sequence (\\)**"
   ]
  },
  {
   "cell_type": "markdown",
   "metadata": {
    "collapsed": true
   },
   "source": [
    "## Concept: Formatting with Escape Sequences\n",
    "[![view video](https://iajupyterprodblobs.blob.core.windows.net/imagecontainer/common/play_video.png)]( http://edxinteractivepage.blob.core.windows.net/edxpages/f7cff1a7-5601-48a1-95a6-fd1fdfabd20e.html?details=[{\"src\":\"http://jupyternootbookwams.streaming.mediaservices.windows.net/b64e53fd-eb3b-4383-8b5f-4da51fc881c5/Unit1_Section6.2-Escape-Sequences.ism/manifest\",\"type\":\"application/vnd.ms-sstr+xml\"}],[{\"src\":\"http://jupyternootbookwams.streaming.mediaservices.windows.net/b64e53fd-eb3b-4383-8b5f-4da51fc881c5/Unit1_Section6.2-Escape-Sequences.vtt\",\"srclang\":\"en\",\"kind\":\"subtitles\",\"label\":\"english\"}])\n",
    "### Escape Sequences\n",
    "- Escape sequences all start with a backslash (**`\\`**) \n",
    "- Escape sequences can be used to display characters in Python reserved for formatting\n",
    "  - **`\\\\`** &nbsp; Backslash (**`\\`**)  \n",
    "  - **`\\'`** &nbsp; Single quote (**'**)  \n",
    "  - **`\\\"`** &nbsp; Double quote (**\"**)  \n",
    "\n",
    "\n",
    "- Escape sequences are part of special formatting charcters\\n    Linefeed \n",
    "  - **`\\t`** &nbsp; Tab\n",
    "  - **`\\n`** &nbsp; return or newline\n",
    "\n",
    "We use escape sequences in strings - usually with `print()` statements. "
   ]
  },
  {
   "cell_type": "markdown",
   "metadata": {},
   "source": [
    "### Examples"
   ]
  },
  {
   "cell_type": "code",
   "execution_count": null,
   "metadata": {
    "collapsed": false
   },
   "outputs": [],
   "source": [
    "# review and run example using \\n (new line)\n",
    "print('Hello World!\\nI am formatting print ')"
   ]
  },
  {
   "cell_type": "code",
   "execution_count": null,
   "metadata": {
    "collapsed": false
   },
   "outputs": [],
   "source": [
    "# review and run code using \\t (tab)\n",
    "student_age = 17\n",
    "student_name = \"Hiroto Yamaguchi\"\n",
    "print(\"STUDENT NAME\\t\\tAGE\")\n",
    "print(student_name,'\\t' + str(student_age))"
   ]
  },
  {
   "cell_type": "code",
   "execution_count": null,
   "metadata": {
    "collapsed": false
   },
   "outputs": [],
   "source": [
    "# review and run code \n",
    "# using \\\" and \\' (escaped quotes)\n",
    "print(\"\\\"quotes in quotes\\\"\")\n",
    "print(\"I\\'ve said \\\"save your notebook,\\\" so let\\'s do it!\")\n",
    "\n",
    "# using  \\\\ (escaped backslash)\n",
    "print(\"for a newline use \\\\n\")"
   ]
  },
  {
   "cell_type": "markdown",
   "metadata": {},
   "source": [
    "## Task 1: Format using backslash (**`\\`**) escape sequences"
   ]
  },
  {
   "cell_type": "code",
   "execution_count": null,
   "metadata": {
    "collapsed": false
   },
   "outputs": [],
   "source": [
    "# [ ] print \"\\\\\\WARNING!///\"\n",
    "\n"
   ]
  },
  {
   "cell_type": "code",
   "execution_count": null,
   "metadata": {
    "collapsed": false
   },
   "outputs": [],
   "source": [
    "# [ ] print output that is exactly (with quotes): \"What's that?\" isn't a specific question.\n",
    "\n"
   ]
  },
  {
   "cell_type": "code",
   "execution_count": null,
   "metadata": {
    "collapsed": false
   },
   "outputs": [],
   "source": [
    "# [ ] from 1 print statement output the text commented below using no spaces\n",
    "# One     Two     Three\n",
    "# Four    Five    Six\n",
    "\n"
   ]
  },
  {
   "cell_type": "markdown",
   "metadata": {},
   "source": [
    "## Task 2: Program: `pre_word()` function\n",
    "Function has a single string parameter that it checks is a single word starting with \"pre\".\n",
    "- Check if word starts with \"pre\"\n",
    "- Check if word .isalpha() \n",
    "- If all checks pass: return **`True`**\n",
    "- If any checks fail: return **`False`**\n",
    "- **Test** \n",
    "  - Get input using the directions: *enter a word that starts with \"pre\": *\n",
    "  - Call pre_word() with the input string\n",
    "  - Test **if** return value is **`False`** and print message explaining not a \"pre\" word \n",
    "  - **else** print message explaining is a valid \"pre\" word"
   ]
  },
  {
   "cell_type": "code",
   "execution_count": null,
   "metadata": {
    "collapsed": false
   },
   "outputs": [],
   "source": [
    "# [ ] create and test pre_word()\n",
    "\n",
    "\n"
   ]
  },
  {
   "cell_type": "markdown",
   "metadata": {},
   "source": [
    "## Task 3: Fix the errors"
   ]
  },
  {
   "cell_type": "code",
   "execution_count": null,
   "metadata": {
    "collapsed": false
   },
   "outputs": [],
   "source": [
    "# [ ] review, run, fix\n",
    "print(\"Hello\" + \\n + \"World!\")\n",
    "\n"
   ]
  },
  {
   "cell_type": "markdown",
   "metadata": {},
   "source": [
    "[Terms of use](http://go.microsoft.com/fwlink/?LinkID=206977) &nbsp; [Privacy & cookies](https://go.microsoft.com/fwlink/?LinkId=521839) &nbsp; © 2017 Microsoft"
   ]
  }
 ],
 "metadata": {
  "anaconda-cloud": {},
  "kernelspec": {
   "display_name": "Python 3",
   "language": "python",
   "name": "python3"
  },
  "language_info": {
   "codemirror_mode": {
    "name": "ipython",
    "version": 3
   },
   "file_extension": ".py",
   "mimetype": "text/x-python",
   "name": "python",
   "nbconvert_exporter": "python",
   "pygments_lexer": "ipython3",
   "version": "3.5.1"
  }
 },
 "nbformat": 4,
 "nbformat_minor": 1
}
